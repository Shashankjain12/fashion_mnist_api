{
 "cells": [
  {
   "cell_type": "code",
   "execution_count": 54,
   "id": "e1605629",
   "metadata": {},
   "outputs": [],
   "source": [
    "import os\n",
    "import gzip\n",
    "import numpy as np\n",
    "import matplotlib.pyplot as plt\n",
    "from keras.models import Sequential\n",
    "from tensorflow.keras.utils import to_categorical\n",
    "from keras.layers import Convolution2D, Dense, MaxPooling2D, Flatten\n",
    "# Mnist reader to read images from the gzip file present in the training dataset\n",
    "def load_mnist(path, kind='train'):\n",
    "    \"\"\"Load MNIST data from `path`\"\"\"\n",
    "    labels_path = os.path.join(path,\n",
    "                               '%s-labels-idx1-ubyte.gz'\n",
    "                               % kind)\n",
    "    images_path = os.path.join(path,\n",
    "                               '%s-images-idx3-ubyte.gz'\n",
    "                               % kind)\n",
    "\n",
    "    with gzip.open(labels_path, 'rb') as lbpath:\n",
    "        labels = np.frombuffer(lbpath.read(), dtype=np.uint8,\n",
    "                               offset=8)\n",
    "\n",
    "    with gzip.open(images_path, 'rb') as imgpath:\n",
    "        images = np.frombuffer(imgpath.read(), dtype=np.uint8,\n",
    "                               offset=16).reshape(len(labels), 28, 28, 1)\n",
    "\n",
    "    return images, labels\n"
   ]
  },
  {
   "cell_type": "code",
   "execution_count": null,
   "id": "8f8397f3",
   "metadata": {},
   "outputs": [],
   "source": [
    "import argparse\n",
    " \n",
    " \n",
    "# Initialize parser\n",
    "parser = argparse.ArgumentParser()\n",
    " \n",
    "# Adding optional argument\n",
    "parser.add_argument(\"-t\", \"--train\", help = \"Pass the training dataset location\")\n",
    "parser.add_argument(\"-ts\", \"--test\", help = \"Pass the testing dataset location\")\n",
    "# Read arguments from command line\n",
    "args = parser.parse_args()\n"
   ]
  },
  {
   "cell_type": "code",
   "execution_count": 2,
   "id": "78a8f876",
   "metadata": {},
   "outputs": [],
   "source": [
    "def prep_pixels(train, test):\n",
    "    # convert from integers to floats\n",
    "    train_norm = train.astype('float32')\n",
    "    test_norm = test.astype('float32')\n",
    "    # normalize to range 0-1\n",
    "    train_norm = train_norm / 255.0\n",
    "    test_norm = test_norm / 255.0\n",
    "    # return normalized images\n",
    "    return train_norm, test_norm"
   ]
  },
  {
   "cell_type": "code",
   "execution_count": 3,
   "id": "21ba9ada",
   "metadata": {},
   "outputs": [],
   "source": [
    "# Training and testing set splitting and using of data\n",
    "\n",
    "X_train, y_train = load_mnist(args.train, kind='train')\n",
    "X_test, y_test = load_mnist(args.test, kind='t10k')\n",
    "# Making the y_train and y_test to categorical values as they are ranging from 0 to 9\n",
    "y_train = to_categorical(y_train)\n",
    "y_test = to_categorical(y_test)\n",
    "# Normalizing the pixel values from 0 to 1 range only\n",
    "X_train, X_test = prep_pixels(X_train, X_test)"
   ]
  },
  {
   "cell_type": "code",
   "execution_count": 4,
   "id": "42880f0a",
   "metadata": {},
   "outputs": [
    {
     "data": {
      "text/plain": [
       "(60000, 10)"
      ]
     },
     "execution_count": 4,
     "metadata": {},
     "output_type": "execute_result"
    }
   ],
   "source": [
    "y_train.shape"
   ]
  },
  {
   "cell_type": "code",
   "execution_count": 5,
   "id": "9421ce48",
   "metadata": {},
   "outputs": [
    {
     "data": {
      "text/plain": [
       "<matplotlib.image.AxesImage at 0x7efcdcb23820>"
      ]
     },
     "execution_count": 5,
     "metadata": {},
     "output_type": "execute_result"
    },
    {
     "data": {
      "image/png": "[encoded data removed]",
      "text/plain": [
       "<Figure size 432x288 with 1 Axes>"
      ]
     },
     "metadata": {
      "needs_background": "light"
     },
     "output_type": "display_data"
    }
   ],
   "source": [
    "# Visualization of images\n",
    "plt.imshow(X_train[0])"
   ]
  },
  {
   "cell_type": "code",
   "execution_count": 6,
   "id": "f732f7be",
   "metadata": {},
   "outputs": [
    {
     "data": {
      "text/plain": [
       "(60000, 28, 28, 1)"
      ]
     },
     "execution_count": 6,
     "metadata": {},
     "output_type": "execute_result"
    }
   ],
   "source": [
    "X_train.shape"
   ]
  },
  {
   "cell_type": "code",
   "execution_count": 7,
   "id": "fa1d0815",
   "metadata": {},
   "outputs": [
    {
     "data": {
      "text/plain": [
       "(10000, 28, 28, 1)"
      ]
     },
     "execution_count": 7,
     "metadata": {},
     "output_type": "execute_result"
    }
   ],
   "source": [
    "X_test.shape"
   ]
  },
  {
   "cell_type": "code",
   "execution_count": 8,
   "id": "7fca4188",
   "metadata": {},
   "outputs": [],
   "source": [
    "# Initializing the CNN\n",
    "classifier = Sequential()\n",
    "# Adding first Convolution layer adding 32 as feature detector\n",
    "# With 3 * 3 as stride with the input shape as 28 * 28 and activation as relu to increase non linearity between data\n",
    "classifier.add(Convolution2D(32, (3, 3), padding = \"same\", input_shape = (28 ,28, 1), activation = 'relu'))\n",
    "# Adding second layer of maxpooling to extract the best features from the data with stride of 2*2\n",
    "classifier.add(MaxPooling2D( pool_size = (2, 2)))\n",
    "# Now then flatten all of the data to pass it to the ANN to classify the data\n",
    "classifier.add(Flatten())\n",
    "# Full connection by adding the Dense layer to the model by adding 128 nodes as an output to the first layer \n",
    "classifier.add(Dense(units = 128, activation = 'relu'))\n",
    "# Adding the hidden layer to the model with output dimension as 10 as we can get 10 distinct set of values\n",
    "classifier.add(Dense(units = 10, activation = 'softmax'))\n",
    "# Now compiling the whole classifier which configures the whole model for training with loss as categorical crossentropy\n",
    "# And using Stochastic Gradient Decent with learning rate as 0.01\n",
    "from tensorflow.keras.optimizers import SGD\n",
    "opt = SGD(learning_rate=0.01, momentum=0.9)\n",
    "# classifier.compile(loss = \"categorical_crossentropy\", optimizer = opt)\n",
    "classifier.compile(optimizer = opt, loss = 'categorical_crossentropy', metrics = ['accuracy'])"
   ]
  },
  {
   "cell_type": "code",
   "execution_count": 9,
   "id": "76ec54d9",
   "metadata": {},
   "outputs": [
    {
     "name": "stdout",
     "output_type": "stream",
     "text": [
      "Epoch 1/100\n",
      "100/100 [==============================] - 7s 64ms/step - loss: 0.9896 - accuracy: 0.6655 - val_loss: 0.6927 - val_accuracy: 0.7257\n",
      "Epoch 2/100\n",
      "100/100 [==============================] - 6s 62ms/step - loss: 0.5224 - accuracy: 0.8142 - val_loss: 0.5054 - val_accuracy: 0.8227\n",
      "Epoch 3/100\n",
      "100/100 [==============================] - 6s 64ms/step - loss: 0.4645 - accuracy: 0.8352 - val_loss: 0.4712 - val_accuracy: 0.8311\n",
      "Epoch 4/100\n",
      "100/100 [==============================] - 6s 65ms/step - loss: 0.4350 - accuracy: 0.8474 - val_loss: 0.4439 - val_accuracy: 0.8440\n",
      "Epoch 5/100\n",
      "100/100 [==============================] - 6s 64ms/step - loss: 0.4136 - accuracy: 0.8546 - val_loss: 0.4158 - val_accuracy: 0.8551\n",
      "Epoch 6/100\n",
      "100/100 [==============================] - 7s 66ms/step - loss: 0.3906 - accuracy: 0.8636 - val_loss: 0.4107 - val_accuracy: 0.8568\n",
      "Epoch 7/100\n",
      "100/100 [==============================] - 7s 70ms/step - loss: 0.3772 - accuracy: 0.8683 - val_loss: 0.3958 - val_accuracy: 0.8642\n",
      "Epoch 8/100\n",
      "100/100 [==============================] - 7s 69ms/step - loss: 0.3624 - accuracy: 0.8734 - val_loss: 0.3855 - val_accuracy: 0.8652\n",
      "Epoch 9/100\n",
      "100/100 [==============================] - 7s 65ms/step - loss: 0.3538 - accuracy: 0.8767 - val_loss: 0.3743 - val_accuracy: 0.8687\n",
      "Epoch 10/100\n",
      "100/100 [==============================] - 7s 69ms/step - loss: 0.3446 - accuracy: 0.8787 - val_loss: 0.3590 - val_accuracy: 0.8737\n",
      "Epoch 11/100\n",
      "100/100 [==============================] - 7s 70ms/step - loss: 0.3355 - accuracy: 0.8818 - val_loss: 0.3520 - val_accuracy: 0.8769\n",
      "Epoch 12/100\n",
      "100/100 [==============================] - 7s 67ms/step - loss: 0.3210 - accuracy: 0.8874 - val_loss: 0.3463 - val_accuracy: 0.8781\n",
      "Epoch 13/100\n",
      "100/100 [==============================] - 7s 68ms/step - loss: 0.3170 - accuracy: 0.8870 - val_loss: 0.3377 - val_accuracy: 0.8803\n",
      "Epoch 14/100\n",
      "100/100 [==============================] - 7s 67ms/step - loss: 0.3082 - accuracy: 0.8916 - val_loss: 0.3501 - val_accuracy: 0.8764\n",
      "Epoch 15/100\n",
      "100/100 [==============================] - 7s 67ms/step - loss: 0.3006 - accuracy: 0.8937 - val_loss: 0.3313 - val_accuracy: 0.8811\n",
      "Epoch 16/100\n",
      "100/100 [==============================] - 7s 67ms/step - loss: 0.2955 - accuracy: 0.8948 - val_loss: 0.3462 - val_accuracy: 0.8746\n",
      "Epoch 17/100\n",
      "100/100 [==============================] - 7s 67ms/step - loss: 0.2888 - accuracy: 0.8965 - val_loss: 0.3533 - val_accuracy: 0.8718\n",
      "Epoch 18/100\n",
      "100/100 [==============================] - 7s 68ms/step - loss: 0.2856 - accuracy: 0.8985 - val_loss: 0.3286 - val_accuracy: 0.8815\n",
      "Epoch 19/100\n",
      "100/100 [==============================] - 7s 68ms/step - loss: 0.2810 - accuracy: 0.8991 - val_loss: 0.3149 - val_accuracy: 0.8862\n",
      "Epoch 20/100\n",
      "100/100 [==============================] - 7s 68ms/step - loss: 0.2690 - accuracy: 0.9037 - val_loss: 0.3080 - val_accuracy: 0.8889\n",
      "Epoch 21/100\n",
      "100/100 [==============================] - 7s 72ms/step - loss: 0.2675 - accuracy: 0.9045 - val_loss: 0.3252 - val_accuracy: 0.8830\n",
      "Epoch 22/100\n",
      "100/100 [==============================] - 7s 71ms/step - loss: 0.2676 - accuracy: 0.9039 - val_loss: 0.3032 - val_accuracy: 0.8926\n",
      "Epoch 23/100\n",
      "100/100 [==============================] - 7s 68ms/step - loss: 0.2570 - accuracy: 0.9074 - val_loss: 0.3331 - val_accuracy: 0.8797\n",
      "Epoch 24/100\n",
      "100/100 [==============================] - 7s 70ms/step - loss: 0.2591 - accuracy: 0.9069 - val_loss: 0.3024 - val_accuracy: 0.8904\n",
      "Epoch 25/100\n",
      "100/100 [==============================] - 7s 71ms/step - loss: 0.2516 - accuracy: 0.9097 - val_loss: 0.2982 - val_accuracy: 0.8935\n",
      "Epoch 26/100\n",
      "100/100 [==============================] - 7s 67ms/step - loss: 0.2480 - accuracy: 0.9114 - val_loss: 0.2980 - val_accuracy: 0.8934\n",
      "Epoch 27/100\n",
      "100/100 [==============================] - 7s 68ms/step - loss: 0.2424 - accuracy: 0.9142 - val_loss: 0.2896 - val_accuracy: 0.8960\n",
      "Epoch 28/100\n",
      "100/100 [==============================] - 7s 69ms/step - loss: 0.2368 - accuracy: 0.9144 - val_loss: 0.2886 - val_accuracy: 0.8940\n",
      "Epoch 29/100\n",
      "100/100 [==============================] - 7s 72ms/step - loss: 0.2399 - accuracy: 0.9143 - val_loss: 0.2959 - val_accuracy: 0.8935\n",
      "Epoch 30/100\n",
      "100/100 [==============================] - 7s 70ms/step - loss: 0.2346 - accuracy: 0.9154 - val_loss: 0.2945 - val_accuracy: 0.8954\n",
      "Epoch 31/100\n",
      "100/100 [==============================] - 7s 68ms/step - loss: 0.2256 - accuracy: 0.9189 - val_loss: 0.2821 - val_accuracy: 0.8996\n",
      "Epoch 32/100\n",
      "100/100 [==============================] - 7s 67ms/step - loss: 0.2246 - accuracy: 0.9193 - val_loss: 0.2862 - val_accuracy: 0.8949\n",
      "Epoch 33/100\n",
      "100/100 [==============================] - 7s 68ms/step - loss: 0.2207 - accuracy: 0.9207 - val_loss: 0.2733 - val_accuracy: 0.9022\n",
      "Epoch 34/100\n",
      "100/100 [==============================] - 7s 68ms/step - loss: 0.2173 - accuracy: 0.9217 - val_loss: 0.2760 - val_accuracy: 0.8998\n",
      "Epoch 35/100\n",
      "100/100 [==============================] - 7s 68ms/step - loss: 0.2133 - accuracy: 0.9238 - val_loss: 0.2794 - val_accuracy: 0.8984\n",
      "Epoch 36/100\n",
      "100/100 [==============================] - 7s 69ms/step - loss: 0.2107 - accuracy: 0.9244 - val_loss: 0.2751 - val_accuracy: 0.9007\n",
      "Epoch 37/100\n",
      "100/100 [==============================] - 7s 71ms/step - loss: 0.2084 - accuracy: 0.9251 - val_loss: 0.2832 - val_accuracy: 0.8984\n",
      "Epoch 38/100\n",
      "100/100 [==============================] - 7s 68ms/step - loss: 0.2047 - accuracy: 0.9271 - val_loss: 0.2692 - val_accuracy: 0.9027\n",
      "Epoch 39/100\n",
      "100/100 [==============================] - 7s 68ms/step - loss: 0.2015 - accuracy: 0.9280 - val_loss: 0.2627 - val_accuracy: 0.9056\n",
      "Epoch 40/100\n",
      "100/100 [==============================] - 7s 74ms/step - loss: 0.1973 - accuracy: 0.9300 - val_loss: 0.2739 - val_accuracy: 0.9011\n",
      "Epoch 41/100\n",
      "100/100 [==============================] - 7s 71ms/step - loss: 0.1964 - accuracy: 0.9299 - val_loss: 0.2843 - val_accuracy: 0.8987\n",
      "Epoch 42/100\n",
      "100/100 [==============================] - 7s 70ms/step - loss: 0.1966 - accuracy: 0.9297 - val_loss: 0.2687 - val_accuracy: 0.9024\n",
      "Epoch 43/100\n",
      "100/100 [==============================] - 7s 68ms/step - loss: 0.1896 - accuracy: 0.9327 - val_loss: 0.2643 - val_accuracy: 0.9037\n",
      "Epoch 44/100\n",
      "100/100 [==============================] - 7s 68ms/step - loss: 0.1852 - accuracy: 0.9344 - val_loss: 0.2794 - val_accuracy: 0.9000\n",
      "Epoch 45/100\n",
      "100/100 [==============================] - 7s 68ms/step - loss: 0.1884 - accuracy: 0.9336 - val_loss: 0.2735 - val_accuracy: 0.9015\n",
      "Epoch 46/100\n",
      "100/100 [==============================] - 7s 68ms/step - loss: 0.1842 - accuracy: 0.9340 - val_loss: 0.2650 - val_accuracy: 0.9052\n",
      "Epoch 47/100\n",
      "100/100 [==============================] - 7s 68ms/step - loss: 0.1776 - accuracy: 0.9372 - val_loss: 0.2613 - val_accuracy: 0.9056\n",
      "Epoch 48/100\n",
      "100/100 [==============================] - 7s 68ms/step - loss: 0.1766 - accuracy: 0.9369 - val_loss: 0.3197 - val_accuracy: 0.8848\n",
      "Epoch 49/100\n",
      "100/100 [==============================] - 7s 68ms/step - loss: 0.1789 - accuracy: 0.9355 - val_loss: 0.2697 - val_accuracy: 0.9068\n",
      "Epoch 50/100\n",
      "100/100 [==============================] - 7s 68ms/step - loss: 0.1705 - accuracy: 0.9402 - val_loss: 0.2669 - val_accuracy: 0.9047\n",
      "Epoch 51/100\n",
      "100/100 [==============================] - 7s 68ms/step - loss: 0.1715 - accuracy: 0.9390 - val_loss: 0.2579 - val_accuracy: 0.9106\n",
      "Epoch 52/100\n",
      "100/100 [==============================] - 7s 68ms/step - loss: 0.1671 - accuracy: 0.9407 - val_loss: 0.2824 - val_accuracy: 0.9013\n",
      "Epoch 53/100\n",
      "100/100 [==============================] - 7s 68ms/step - loss: 0.1643 - accuracy: 0.9421 - val_loss: 0.2601 - val_accuracy: 0.9087\n",
      "Epoch 54/100\n",
      "100/100 [==============================] - 7s 71ms/step - loss: 0.1626 - accuracy: 0.9422 - val_loss: 0.2557 - val_accuracy: 0.9091\n",
      "Epoch 55/100\n",
      "100/100 [==============================] - 7s 70ms/step - loss: 0.1597 - accuracy: 0.9434 - val_loss: 0.2569 - val_accuracy: 0.9121\n",
      "Epoch 56/100\n",
      "100/100 [==============================] - 7s 68ms/step - loss: 0.1576 - accuracy: 0.9440 - val_loss: 0.2540 - val_accuracy: 0.9121\n",
      "Epoch 57/100\n"
     ]
    },
    {
     "name": "stdout",
     "output_type": "stream",
     "text": [
      "100/100 [==============================] - 7s 67ms/step - loss: 0.1570 - accuracy: 0.9448 - val_loss: 0.2529 - val_accuracy: 0.9120\n",
      "Epoch 58/100\n",
      "100/100 [==============================] - 7s 68ms/step - loss: 0.1548 - accuracy: 0.9450 - val_loss: 0.2591 - val_accuracy: 0.9090\n",
      "Epoch 59/100\n",
      "100/100 [==============================] - 7s 67ms/step - loss: 0.1533 - accuracy: 0.9466 - val_loss: 0.2531 - val_accuracy: 0.9137\n",
      "Epoch 60/100\n",
      "100/100 [==============================] - 7s 68ms/step - loss: 0.1482 - accuracy: 0.9476 - val_loss: 0.2595 - val_accuracy: 0.9106\n",
      "Epoch 61/100\n",
      "100/100 [==============================] - 7s 68ms/step - loss: 0.1497 - accuracy: 0.9466 - val_loss: 0.2682 - val_accuracy: 0.9076\n",
      "Epoch 62/100\n",
      "100/100 [==============================] - 7s 68ms/step - loss: 0.1458 - accuracy: 0.9485 - val_loss: 0.2544 - val_accuracy: 0.9124\n",
      "Epoch 63/100\n",
      "100/100 [==============================] - 7s 68ms/step - loss: 0.1398 - accuracy: 0.9516 - val_loss: 0.2538 - val_accuracy: 0.9138\n",
      "Epoch 64/100\n",
      "100/100 [==============================] - 7s 68ms/step - loss: 0.1395 - accuracy: 0.9518 - val_loss: 0.2529 - val_accuracy: 0.9128\n",
      "Epoch 65/100\n",
      "100/100 [==============================] - 7s 68ms/step - loss: 0.1356 - accuracy: 0.9523 - val_loss: 0.2622 - val_accuracy: 0.9081\n",
      "Epoch 66/100\n",
      "100/100 [==============================] - 7s 68ms/step - loss: 0.1353 - accuracy: 0.9537 - val_loss: 0.2656 - val_accuracy: 0.9113\n",
      "Epoch 67/100\n",
      "100/100 [==============================] - 7s 68ms/step - loss: 0.1321 - accuracy: 0.9543 - val_loss: 0.2670 - val_accuracy: 0.9086\n",
      "Epoch 68/100\n",
      "100/100 [==============================] - 7s 68ms/step - loss: 0.1286 - accuracy: 0.9559 - val_loss: 0.2521 - val_accuracy: 0.9150\n",
      "Epoch 69/100\n",
      "100/100 [==============================] - 7s 68ms/step - loss: 0.1286 - accuracy: 0.9555 - val_loss: 0.2648 - val_accuracy: 0.9110\n",
      "Epoch 70/100\n",
      "100/100 [==============================] - 7s 69ms/step - loss: 0.1288 - accuracy: 0.9549 - val_loss: 0.2687 - val_accuracy: 0.9097\n",
      "Epoch 71/100\n",
      "100/100 [==============================] - 7s 68ms/step - loss: 0.1227 - accuracy: 0.9576 - val_loss: 0.2575 - val_accuracy: 0.9141\n",
      "Epoch 72/100\n",
      "100/100 [==============================] - 7s 68ms/step - loss: 0.1225 - accuracy: 0.9580 - val_loss: 0.2567 - val_accuracy: 0.9130\n",
      "Epoch 73/100\n",
      "100/100 [==============================] - 7s 68ms/step - loss: 0.1198 - accuracy: 0.9584 - val_loss: 0.2570 - val_accuracy: 0.9154\n",
      "Epoch 74/100\n",
      "100/100 [==============================] - 7s 68ms/step - loss: 0.1158 - accuracy: 0.9607 - val_loss: 0.2653 - val_accuracy: 0.9097\n",
      "Epoch 75/100\n",
      "100/100 [==============================] - 7s 68ms/step - loss: 0.1159 - accuracy: 0.9606 - val_loss: 0.2585 - val_accuracy: 0.9148\n",
      "Epoch 76/100\n",
      "100/100 [==============================] - 7s 68ms/step - loss: 0.1124 - accuracy: 0.9616 - val_loss: 0.2754 - val_accuracy: 0.9102\n",
      "Epoch 77/100\n",
      "100/100 [==============================] - 7s 68ms/step - loss: 0.1123 - accuracy: 0.9619 - val_loss: 0.2631 - val_accuracy: 0.9162\n",
      "Epoch 78/100\n",
      "100/100 [==============================] - 7s 68ms/step - loss: 0.1083 - accuracy: 0.9628 - val_loss: 0.2583 - val_accuracy: 0.9164\n",
      "Epoch 79/100\n",
      "100/100 [==============================] - 7s 69ms/step - loss: 0.1084 - accuracy: 0.9634 - val_loss: 0.2679 - val_accuracy: 0.9120\n",
      "Epoch 80/100\n",
      "100/100 [==============================] - 7s 68ms/step - loss: 0.1075 - accuracy: 0.9633 - val_loss: 0.2580 - val_accuracy: 0.9148\n",
      "Epoch 81/100\n",
      "100/100 [==============================] - 7s 69ms/step - loss: 0.1050 - accuracy: 0.9645 - val_loss: 0.2734 - val_accuracy: 0.9121\n",
      "Epoch 82/100\n",
      "100/100 [==============================] - 7s 69ms/step - loss: 0.1049 - accuracy: 0.9643 - val_loss: 0.2639 - val_accuracy: 0.9147\n",
      "Epoch 83/100\n",
      "100/100 [==============================] - 7s 69ms/step - loss: 0.0998 - accuracy: 0.9668 - val_loss: 0.2730 - val_accuracy: 0.9110\n",
      "Epoch 84/100\n",
      "100/100 [==============================] - 7s 68ms/step - loss: 0.0981 - accuracy: 0.9671 - val_loss: 0.2642 - val_accuracy: 0.9151\n",
      "Epoch 85/100\n",
      "100/100 [==============================] - 7s 68ms/step - loss: 0.0960 - accuracy: 0.9685 - val_loss: 0.2629 - val_accuracy: 0.9169\n",
      "Epoch 86/100\n",
      "100/100 [==============================] - 7s 69ms/step - loss: 0.0951 - accuracy: 0.9688 - val_loss: 0.2847 - val_accuracy: 0.9113\n",
      "Epoch 87/100\n",
      "100/100 [==============================] - 7s 69ms/step - loss: 0.0925 - accuracy: 0.9700 - val_loss: 0.2629 - val_accuracy: 0.9170\n",
      "Epoch 88/100\n",
      "100/100 [==============================] - 7s 69ms/step - loss: 0.0904 - accuracy: 0.9704 - val_loss: 0.2663 - val_accuracy: 0.9179\n",
      "Epoch 89/100\n",
      "100/100 [==============================] - 7s 70ms/step - loss: 0.0898 - accuracy: 0.9708 - val_loss: 0.2763 - val_accuracy: 0.9123\n",
      "Epoch 90/100\n",
      "100/100 [==============================] - 7s 72ms/step - loss: 0.0896 - accuracy: 0.9703 - val_loss: 0.2703 - val_accuracy: 0.9143\n",
      "Epoch 91/100\n",
      "100/100 [==============================] - 7s 70ms/step - loss: 0.0861 - accuracy: 0.9722 - val_loss: 0.2761 - val_accuracy: 0.9129\n",
      "Epoch 92/100\n",
      "100/100 [==============================] - 7s 70ms/step - loss: 0.0847 - accuracy: 0.9726 - val_loss: 0.2672 - val_accuracy: 0.9179\n",
      "Epoch 93/100\n",
      "100/100 [==============================] - 7s 69ms/step - loss: 0.0854 - accuracy: 0.9723 - val_loss: 0.2753 - val_accuracy: 0.9148\n",
      "Epoch 94/100\n",
      "100/100 [==============================] - 7s 69ms/step - loss: 0.0821 - accuracy: 0.9735 - val_loss: 0.2806 - val_accuracy: 0.9131\n",
      "Epoch 95/100\n",
      "100/100 [==============================] - 7s 69ms/step - loss: 0.0786 - accuracy: 0.9754 - val_loss: 0.2769 - val_accuracy: 0.9158\n",
      "Epoch 96/100\n",
      "100/100 [==============================] - 7s 69ms/step - loss: 0.0854 - accuracy: 0.9712 - val_loss: 0.2744 - val_accuracy: 0.9167\n",
      "Epoch 97/100\n",
      "100/100 [==============================] - 7s 69ms/step - loss: 0.0764 - accuracy: 0.9765 - val_loss: 0.2745 - val_accuracy: 0.9181\n",
      "Epoch 98/100\n",
      "100/100 [==============================] - 7s 69ms/step - loss: 0.0792 - accuracy: 0.9743 - val_loss: 0.2871 - val_accuracy: 0.9138\n",
      "Epoch 99/100\n",
      "100/100 [==============================] - 7s 69ms/step - loss: 0.0732 - accuracy: 0.9769 - val_loss: 0.2766 - val_accuracy: 0.9133\n",
      "Epoch 100/100\n",
      "100/100 [==============================] - 7s 69ms/step - loss: 0.0750 - accuracy: 0.9762 - val_loss: 0.2857 - val_accuracy: 0.9148\n"
     ]
    },
    {
     "data": {
      "text/plain": [
       "<keras.callbacks.History at 0x7efc54528340>"
      ]
     },
     "execution_count": 9,
     "metadata": {},
     "output_type": "execute_result"
    }
   ],
   "source": [
    "# Now training our data set with batch size as 600 to train data individually and \n",
    "# epochs as 100 to train the data 100 times\n",
    "# Validating the training on X_test and y_test for the trained data\n",
    "# Steps per epoch will be running 100 batches per epoch\n",
    "classifier.fit(\n",
    "    x = X_train,\n",
    "    y = y_train,\n",
    "    batch_size = 600,\n",
    "    epochs = 100,\n",
    "    verbose = \"auto\",\n",
    "    validation_data = (X_test, y_test),\n",
    "    shuffle=True,\n",
    "    initial_epoch=0,\n",
    "    steps_per_epoch = 100,\n",
    "    validation_steps= 100,\n",
    "    validation_batch_size = 100,\n",
    "    validation_freq=1,\n",
    "    max_queue_size=10,\n",
    "    workers = 2,\n",
    "    use_multiprocessing = True,\n",
    ")\n"
   ]
  },
  {
   "cell_type": "code",
   "execution_count": 16,
   "id": "e9b02ec3",
   "metadata": {},
   "outputs": [
    {
     "data": {
      "text/plain": [
       "<matplotlib.image.AxesImage at 0x7efc4a50d520>"
      ]
     },
     "execution_count": 16,
     "metadata": {},
     "output_type": "execute_result"
    },
    {
     "data": {
      "image/png": "[encoded data removed]",
      "text/plain": [
       "<Figure size 432x288 with 1 Axes>"
      ]
     },
     "metadata": {
      "needs_background": "light"
     },
     "output_type": "display_data"
    }
   ],
   "source": [
    "plt.imshow(X_test[0])"
   ]
  },
  {
   "cell_type": "code",
   "execution_count": 25,
   "id": "12068b6f",
   "metadata": {},
   "outputs": [],
   "source": [
    "# Saving the model\n",
    "classifier.save(\"/home/shashank/Desktop/vectorai/saved_model/fashion_mnist.h5\")"
   ]
  },
  {
   "cell_type": "code",
   "execution_count": 26,
   "id": "7c258747",
   "metadata": {},
   "outputs": [
    {
     "data": {
      "text/plain": [
       "array([0., 0., 0., 0., 0., 0., 0., 0., 0., 1.], dtype=float32)"
      ]
     },
     "execution_count": 26,
     "metadata": {},
     "output_type": "execute_result"
    }
   ],
   "source": [
    "y_test[0]"
   ]
  },
  {
   "cell_type": "code",
   "execution_count": null,
   "id": "5f93eb63",
   "metadata": {},
   "outputs": [],
   "source": []
  },
  {
   "cell_type": "code",
   "execution_count": 51,
   "id": "eb442bf3",
   "metadata": {},
   "outputs": [],
   "source": [
    "#Testing the model out on real data\n",
    "from keras.models import load_model\n",
    "from tensorflow.keras.utils import load_img, img_to_array\n",
    "model = load_model(\"saved_model/fashion_mnist.h5\")\n",
    "\n",
    "def load_image_prediction(filename):\n",
    "    img_dict = {\n",
    "    0 : \"T-shirt/top\",\n",
    "    1 : \"Trouser\",\n",
    "    2 : \"Pullover\",\n",
    "    3 : \"Dress\",\n",
    "    4 : \"Coat\",\n",
    "    5 : \"Sandal\",\n",
    "    6 : \"Shirt\",\n",
    "    7 : \"Sneaker\",\n",
    "    8 : \"Bag\",\n",
    "    9 : \"Ankle boot\"\n",
    "    } \n",
    "    # load the image\n",
    "    img = load_img(filename, grayscale=True, target_size=(28, 28))\n",
    "    # convert to array\n",
    "    img = img_to_array(img)\n",
    "    # reshape into a single sample with 1 channel\n",
    "    img = img.reshape(1, 28, 28, 1)\n",
    "    # prepare pixel data\n",
    "    img = img.astype('float32')\n",
    "    img = img / 255.0\n",
    "    y_pred = model.predict(img)\n",
    "    classes_x = np.argmax(y_pred, axis=1)\n",
    "    class_pred = img_dict[classes_x[0]]\n",
    "    return class_pred\n",
    "\n",
    "pred = load_image_prediction(\"tests/sample_image.jpg\")\n",
    "print(pred)"
   ]
  },
  {
   "cell_type": "code",
   "execution_count": null,
   "id": "1a99639f",
   "metadata": {},
   "outputs": [],
   "source": []
  },
  {
   "cell_type": "code",
   "execution_count": null,
   "id": "8bee27e5",
   "metadata": {},
   "outputs": [],
   "source": []
  },
  {
   "cell_type": "code",
   "execution_count": null,
   "id": "e4304305",
   "metadata": {},
   "outputs": [],
   "source": []
  },
  {
   "cell_type": "code",
   "execution_count": null,
   "id": "c7e1043a",
   "metadata": {},
   "outputs": [],
   "source": []
  },
  {
   "cell_type": "code",
   "execution_count": null,
   "id": "f6bb0404",
   "metadata": {},
   "outputs": [],
   "source": []
  },
  {
   "cell_type": "code",
   "execution_count": null,
   "id": "571547df",
   "metadata": {},
   "outputs": [],
   "source": []
  },
  {
   "cell_type": "code",
   "execution_count": null,
   "id": "c7413f54",
   "metadata": {},
   "outputs": [],
   "source": []
  },
  {
   "cell_type": "code",
   "execution_count": null,
   "id": "7b40df0c",
   "metadata": {},
   "outputs": [],
   "source": []
  },
  {
   "cell_type": "code",
   "execution_count": null,
   "id": "3dcbb0fc",
   "metadata": {},
   "outputs": [],
   "source": []
  }
 ],
 "metadata": {
  "kernelspec": {
   "display_name": "Python 3",
   "language": "python",
   "name": "python3"
  },
  "language_info": {
   "codemirror_mode": {
    "name": "ipython",
    "version": 3
   },
   "file_extension": ".py",
   "mimetype": "text/x-python",
   "name": "python",
   "nbconvert_exporter": "python",
   "pygments_lexer": "ipython3",
   "version": "3.8.10"
  }
 },
 "nbformat": 4,
 "nbformat_minor": 5
}
